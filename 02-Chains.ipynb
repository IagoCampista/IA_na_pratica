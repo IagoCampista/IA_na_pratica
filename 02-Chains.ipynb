{
 "cells": [
  {
   "cell_type": "code",
   "execution_count": 47,
   "id": "b4869e94",
   "metadata": {},
   "outputs": [],
   "source": [
    "# main.py\n",
    "import os\n",
    "from dotenv import load_dotenv\n",
    "from langchain_groq import ChatGroq\n",
    "from langchain_huggingface import HuggingFaceEmbeddings\n",
    "from langchain_pinecone import PineconeVectorStore\n",
    "from langchain.prompts import PromptTemplate\n",
    "from langchain_core.runnables import RunnablePassthrough\n",
    "from langchain_core.output_parsers import StrOutputParser\n",
    "from langchain.chains.router import MultiPromptChain\n",
    "from langchain.chains.router.llm_router import LLMRouterChain, RouterOutputParser\n",
    "from langchain.chains.router.multi_prompt_prompt import MULTI_PROMPT_ROUTER_TEMPLATE\n",
    "from operator import itemgetter\n",
    "\n",
    "load_dotenv()\n",
    "\n",
    "# Inicializar LLM de alta velocidade\n",
    "llm = ChatGroq(model_name=\"llama-3.3-70b-versatile\", temperature=0)\n",
    "\n",
    "# Inicializar o Retriever para buscar informações no Pinecone\n",
    "index_name = \"assistente-viagem\"\n",
    "embeddings = HuggingFaceEmbeddings(\n",
    "    model_name=\"sentence-transformers/all-MiniLM-L6-v2\",\n",
    "    model_kwargs={'device': 'cpu'}\n",
    ")\n",
    "vectorstore = PineconeVectorStore(index_name=index_name, embedding=embeddings)\n",
    "retriever = vectorstore.as_retriever()"
   ]
  },
  {
   "cell_type": "code",
   "execution_count": 48,
   "id": "2aee4edf",
   "metadata": {},
   "outputs": [
    {
     "name": "stdout",
     "output_type": "stream",
     "text": [
      "No Rio de Janeiro, você pode visitar a Praia de Copacabana, que é ideal para caminhadas no calçadão e visitas a quiosques, especialmente durante o réveillon, quando recebe milhões de turistas. Além disso, o Cristo Redentor é a atração mais famosa da cidade e é recomendado visitá-lo pela manhã, em dias de céu limpo, para aproveitar a vista e evitar filas.\n"
     ]
    }
   ],
   "source": [
    "# Prompt Template para Info Local\n",
    "local_info_prompt = PromptTemplate(\n",
    "    template=\"\"\"Você é um assistente de viagens muito prestativo.\n",
    "    Use o CONTEXTO fornecido para responder à PERGUNTA do usuário.\n",
    "    Se a informação não estiver no contexto, diga que você não sabe. Não invente.\n",
    "\n",
    "    CONTEXTO: {context}\n",
    "    PERGUNTA: {question}\n",
    "    RESPOSTA:\"\"\",\n",
    "    input_variables=[\"context\", \"question\"],\n",
    ")\n",
    "\n",
    "# Criar a Cadeia (Chain)\n",
    "local_info_chain = (\n",
    "    {\n",
    "        \"context\": itemgetter(\"question\") | retriever,\n",
    "        \"question\": itemgetter(\"question\")\n",
    "    }\n",
    "    | local_info_prompt\n",
    "    | llm\n",
    "    | StrOutputParser()\n",
    ")\n",
    "\n",
    "# Teste rápido (opcional)\n",
    "print(local_info_chain.invoke({\"question\": \"Onde posso visitar no Rio de Janeiro?\"}))"
   ]
  },
  {
   "cell_type": "code",
   "execution_count": 49,
   "id": "198daaab",
   "metadata": {},
   "outputs": [
    {
     "name": "stdout",
     "output_type": "stream",
     "text": [
      "O Aeroporto Charles de Gaulle (CDG) é o principal ponto de entrada internacional em Paris, então é provavelmente a melhor opção para chegar em Paris, especialmente se você estiver vindo de fora da Europa. No entanto, se você estiver vindo de uma região próxima ou dentro da Europa, o Aeroporto Orly (ORY) pode ser uma opção viável, pois é mais utilizado para voos regionais. A escolha do aeroporto depende do seu local de origem e do tipo de voo que você estiver pegando.\n"
     ]
    }
   ],
   "source": [
    "# Prompt Template para Logística\n",
    "logistics_prompt = PromptTemplate(\n",
    "    template=\"\"\"Você é um especialista em logística de viagens.\n",
    "    Responda à PERGUNTA do usuário focando em transporte, direções e aspectos práticos.\n",
    "    Use o CONTEXTO para basear sua resposta.\n",
    "    Se a informação não estiver no contexto, diga que você não sabe. Não invente.\n",
    "\n",
    "    CONTEXTO: {context}\n",
    "    PERGUNTA: {question}\n",
    "    RESPOSTA:\"\"\",\n",
    "    input_variables=[\"context\", \"question\"],\n",
    ")\n",
    "\n",
    "# Criar a Cadeia (Chain)\n",
    "logistics_chain = (\n",
    "    {\n",
    "        \"context\": itemgetter(\"question\") | retriever,\n",
    "        \"question\": itemgetter(\"question\")\n",
    "    }\n",
    "    | logistics_prompt\n",
    "    | llm\n",
    "    | StrOutputParser()\n",
    ")\n",
    "\n",
    "# Teste rápido (opcional)\n",
    "print(logistics_chain.invoke({\"question\": \"Qual melhor aeroporto para chegar em Paris?\"}))"
   ]
  },
  {
   "cell_type": "code",
   "execution_count": 50,
   "id": "6c4999dd",
   "metadata": {},
   "outputs": [
    {
     "name": "stdout",
     "output_type": "stream",
     "text": [
      "Aqui está um roteiro de um dia em Paris, considerando as informações disponíveis no contexto:\n",
      "\n",
      "**Manhã (9h00 - 12h00)**\n",
      "\n",
      "* 9h00: Inicie o dia visitando um dos cafés tradicionais parisienses, como sugerido no contexto. Experimente um croissant ou quiche e observe o cotidiano da cidade.\n",
      "* 10h30: Após o café, faça uma caminhada pelo bairro onde se encontra o café, aproveitando a arquitetura e a atmosfera parisiense.\n",
      "\n",
      "**Almoço (12h00 - 14h00)**\n",
      "\n",
      "* 12h00: Para o almoço, sugiro visitar o restaurante Le Meurice, uma referência da alta gastronomia francesa. O ambiente sofisticado e a comida de alta qualidade garantem uma experiência inesquecível.\n",
      "\n",
      "**Tarde (14h00 - 18h00)**\n",
      "\n",
      "* 14h00: Após o almoço, faça uma caminhada pelo rio Sena ou visite algum dos principais pontos turísticos da cidade, como a Torre Eiffel ou o Louvre.\n",
      "* 16h00: Visite uma das muitas lojas ou mercados da cidade, como o Mercado de Antiguidades de Saint-Ouen, para encontrar souvenirs ou itens únicos.\n",
      "\n",
      "**Noite (18h00 - 22h00)**\n",
      "\n",
      "* 18h00: Para a noite, sugiro jantar em um dos muitos restaurantes da cidade, talvez em um bairro como Montmartre ou Le Marais.\n",
      "* 20h00: Após o jantar, faça uma caminhada noturna pela cidade, aproveitando a iluminação dos principais pontos turísticos e a atmosfera parisiense.\n",
      "\n",
      "Lembre-se de que este é apenas um roteiro sugerido e que você pode personalizá-lo de acordo com seus interesses e preferências. Além disso, é importante verificar os horários de funcionamento e os preços dos locais sugeridos antes de sair.\n"
     ]
    }
   ],
   "source": [
    "itinerary_prompt = PromptTemplate(\n",
    "    template=\"\"\"Você é um planejador de viagens experiente.\n",
    "    Com base na PERGUNTA do usuário e no CONTEXTO de informações turísticas, crie um roteiro de viagem detalhado.\n",
    "    O roteiro deve ser claro, organizado por dias e períodos (manhã, tarde, noite) e incluir sugestões do contexto.\n",
    "    Se não for possível formular uma resposta com as informações do contexto, diga que você não sabe. Não invente.\n",
    "\n",
    "    CONTEXTO: {context}\n",
    "    PERGUNTA: {question}\n",
    "    ROTEIRO DETALHADO:\"\"\",\n",
    "    input_variables=[\"context\", \"question\"],\n",
    ")\n",
    "\n",
    "# Criar a Cadeia (Chain)\n",
    "itinerary_chain = (\n",
    "    {\n",
    "        # Extrai o valor da chave \"question\" e passa SÓ A STRING para o retriever\n",
    "        \"context\": itemgetter(\"question\") | retriever,\n",
    "        # Extrai o valor da chave \"question\" para repassar ao prompt\n",
    "        \"question\": itemgetter(\"question\")\n",
    "    }\n",
    "    | itinerary_prompt\n",
    "    | llm\n",
    "    | StrOutputParser()\n",
    ")\n",
    "\n",
    "# Teste rápido (opcional)\n",
    "print(itinerary_chain.invoke({\"question\": \"Crie um roteiro de um dia em Paris\"}))"
   ]
  },
  {
   "cell_type": "code",
   "execution_count": 51,
   "id": "464205ec",
   "metadata": {},
   "outputs": [
    {
     "name": "stdout",
     "output_type": "stream",
     "text": [
      "A tradução para o francês é: \"Où sont les toilettes?\"\n",
      "\n",
      "Pronúncia simplificada: \"Uh sah lay twah-leh-tuh\"\n",
      "\n",
      "Lembre-se de que, em francês, a pronúncia pode variar ligeiramente dependendo do sotaque e da região, mas essa é uma forma amplamente aceita e compreendida.\n"
     ]
    }
   ],
   "source": [
    "translation_prompt = PromptTemplate.from_template(\n",
    "    \"\"\"Você é um guia de tradução para turistas.\n",
    "    O usuário quer saber frases úteis em outro idioma.\n",
    "    Traduza a seguinte frase ou pedido para o idioma solicitado e forneça uma pronúncia simplificada.\n",
    "\n",
    "    PEDIDO DO USUÁRIO: {question}\n",
    "    TRADUÇÃO E GUIA DE PRONÚNCIA:\"\"\"\n",
    ")\n",
    "\n",
    "# Criar a Cadeia (Chain)\n",
    "translation_chain = translation_prompt | llm | StrOutputParser()\n",
    "\n",
    "# Teste rápido (opcional)\n",
    "print(translation_chain.invoke(\"Como se diz 'Onde fica o banheiro?' em francês?\"))"
   ]
  },
  {
   "cell_type": "code",
   "execution_count": 52,
   "id": "c38349ad",
   "metadata": {},
   "outputs": [],
   "source": [
    "from langchain_core.runnables import RunnableBranch\n",
    "\n",
    "# Template para o classificador\n",
    "router_prompt_template = \"\"\"Dada a pergunta do usuário, classifique-a em uma das seguintes categorias.\n",
    "Responda APENAS com o nome da categoria.\n",
    "\n",
    "Categorias:\n",
    "- roteiro-viagem: O usuário está pedindo um itinerário, plano de viagem ou sugestões de atividades para múltiplos dias.\n",
    "- logistica-transporte: O usuário está perguntando sobre meios de transporte, como chegar a um lugar, aeroportos ou locomoção.\n",
    "- info-local: O usuário está pedindo informações específicas sobre um ponto turístico, restaurante, horário de funcionamento, etc.\n",
    "- traducao-idiomas: O usuário está pedindo para traduzir uma frase ou palavra.\n",
    "- geral: O usuário está fazendo uma pergunta geral que não se encaixa nas outras categorias.\n",
    "\n",
    "Pergunta do usuário:\n",
    "{question}\n",
    "\n",
    "Classificação:\"\"\"\n",
    "\n",
    "prompt_router = PromptTemplate(\n",
    "    template=router_prompt_template,\n",
    "    input_variables=[\"question\"],\n",
    ")\n",
    "\n",
    "# A cadeia classificadora\n",
    "classifier_chain = prompt_router | llm | StrOutputParser()"
   ]
  },
  {
   "cell_type": "code",
   "execution_count": null,
   "id": "5e34b62e",
   "metadata": {},
   "outputs": [],
   "source": [
    "# O RunnableBranch funciona como um if/elif/else\n",
    "branch = RunnableBranch(\n",
    "    # Se o tópico for \"roteiro-viagem\", execute a itinerary_chain\n",
    "    (lambda x: \"roteiro-viagem\" in x[\"topic\"].lower(), itinerary_chain),\n",
    "    # Se o tópico for \"logistica-transporte\", execute a logistics_chain\n",
    "    (lambda x: \"logistica-transporte\" in x[\"topic\"].lower(), logistics_chain),\n",
    "    # Se o tópico for \"info-local\", execute a local_info_chain\n",
    "    (lambda x: \"info-local\" in x[\"topic\"].lower(), local_info_chain),\n",
    "    # Se o tópico for \"traducao-idiomas\", execute a translation_chain\n",
    "    (lambda x: \"traducao-idiomas\" in x[\"topic\"].lower(), translation_chain),\n",
    "    # Se nenhuma condição for atendida, execute a cadeia padrão (LLM puro)\n",
    "    llm,\n",
    ")\n",
    "\n",
    "full_chain = {\n",
    "    # 1. Adaptamos o input para a classifier_chain:\n",
    "    #    - Pegamos o dicionário de entrada (ex: {'input': 'texto'})\n",
    "    #    - Criamos um novo dicionário {'question': 'texto'}\n",
    "    #    - Passamos esse novo dicionário para a classifier_chain\n",
    "    \"topic\": (lambda x: {\"question\": x[\"input\"]}) | classifier_chain,\n",
    "    \n",
    "    # 2. Mantemos a pergunta original para ser usada pelas cadeias finais\n",
    "    \"question\": lambda x: x[\"input\"]\n",
    "} | branch\n",
    "\n",
    "# Renomeamos a variável final para 'chain' para manter a consistência com os testes\n",
    "chain = full_chain"
   ]
  },
  {
   "cell_type": "code",
   "execution_count": 54,
   "id": "d1c7f65a",
   "metadata": {},
   "outputs": [
    {
     "name": "stdout",
     "output_type": "stream",
     "text": [
      "\n",
      "--- Teste de Roteiro ---\n",
      "Claro, posso ajudar com um roteiro gastronômico no Rio de Janeiro com base nas informações disponíveis. \n",
      "\n",
      "No Rio de Janeiro, uma das principais referências em rodízio de carnes brasileiras é a churrascaria Fogo de Chão. É um ótimo lugar para experimentar a culinária brasileira, especialmente se você gosta de carnes grelhadas. \n",
      "\n",
      "Infelizmente, não tenho informações sobre outros restaurantes ou opções gastronômicas específicas no Rio de Janeiro além da churrascaria Fogo de Chão. Se você estiver procurando por uma experiência mais variada, também poderia considerar visitar a Praia de Copacabana, que, embora não seja especificamente um destino gastronômico, oferece quiosques onde você pode encontrar opções de comida e bebida enquanto desfruta do ambiente da praia.\n",
      "\n",
      "Espero que essa informação seja útil! Se tiver mais perguntas ou precisar de mais ajuda, sinta-se à vontade para perguntar.\n",
      "\n",
      "--- Teste de Logística ---\n",
      "Infelizmente, não tenho informações específicas sobre a melhor forma de ir do Aeroporto Charles de Gaulle para o centro de Paris. No entanto, posso sugerir que o sistema ferroviário, mencionado no contexto como uma opção para passeios fora de Paris, pode ser uma alternativa viável para se deslocar dentro da cidade, considerando a eficiência dos sistemas de transporte ferroviário em Paris. Além disso, é comum que aeroportos principais como o Charles de Gaulle ofereçam várias opções de transporte para o centro da cidade, incluindo trens, ônibus e táxis. Recomendo verificar diretamente com o aeroporto ou um serviço de transporte local para obter as informações mais atualizadas e precisas sobre como chegar ao centro de Paris.\n"
     ]
    }
   ],
   "source": [
    "# --- Testes ---\n",
    "print(\"\\n--- Teste de Roteiro ---\")\n",
    "print(chain.invoke({\"input\": \"Me dê um roteiro gastronômico no Rio de Janeiro\"}))\n",
    "\n",
    "print(\"\\n--- Teste de Logística ---\")\n",
    "print(chain.invoke({\"input\": \"Qual a melhor forma de ir do aeroporto Charles de Gaulle para o centro de Paris?\"}))"
   ]
  }
 ],
 "metadata": {
  "kernelspec": {
   "display_name": "travelAgent",
   "language": "python",
   "name": "python3"
  },
  "language_info": {
   "codemirror_mode": {
    "name": "ipython",
    "version": 3
   },
   "file_extension": ".py",
   "mimetype": "text/x-python",
   "name": "python",
   "nbconvert_exporter": "python",
   "pygments_lexer": "ipython3",
   "version": "3.11.13"
  }
 },
 "nbformat": 4,
 "nbformat_minor": 5
}
